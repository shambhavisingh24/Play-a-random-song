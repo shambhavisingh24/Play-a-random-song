{
 "cells": [
  {
   "cell_type": "code",
   "execution_count": null,
   "metadata": {},
   "outputs": [],
   "source": []
  },
  {
   "cell_type": "code",
   "execution_count": 1,
   "metadata": {},
   "outputs": [],
   "source": [
    "import spotipy\n",
    "from spotipy.oauth2 import SpotifyClientCredentials\n",
    "import pandas as pd"
   ]
  },
  {
   "cell_type": "code",
   "execution_count": 2,
   "metadata": {},
   "outputs": [],
   "source": [
    "cid='41e26e60935a465095f88890a830020d'\n",
    "secret='81e64ad9c6954704a919df9480f96f3c'"
   ]
  },
  {
   "cell_type": "code",
   "execution_count": 3,
   "metadata": {},
   "outputs": [],
   "source": [
    "#Authentication - without user\n",
    "client_credentials_manager = SpotifyClientCredentials(client_id=cid, client_secret=secret)\n",
    "sp = spotipy.Spotify(client_credentials_manager = client_credentials_manager)"
   ]
  },
  {
   "cell_type": "code",
   "execution_count": 4,
   "metadata": {},
   "outputs": [],
   "source": [
    "def file(playlist_link):\n",
    "    playlist_URI = playlist_link.split(\"/\")[-1].split(\"?\")[0]\n",
    "    track_uris = [x[\"track\"][\"uri\"] for x in sp.playlist_tracks(playlist_URI)[\"items\"]]\n",
    "    d = []\n",
    "    for track in sp.playlist_tracks(playlist_URI)[\"items\"]:\n",
    "        d.append(\n",
    "        {\n",
    "            'track_uri' : track[\"track\"][\"uri\"],\n",
    "            'track_name' : track[\"track\"][\"name\"],\n",
    "            'album' : track[\"track\"][\"album\"][\"name\"],\n",
    "            'artist_name' : track[\"track\"][\"artists\"][0][\"name\"],\n",
    "            'track_pop' : track[\"track\"][\"popularity\"]\n",
    "        })\n",
    "    return d"
   ]
  },
  {
   "cell_type": "code",
   "execution_count": 5,
   "metadata": {},
   "outputs": [],
   "source": [
    "def dataframe(playlist_link,year,lang):\n",
    "    d=file(playlist_link)\n",
    "    df = pd.DataFrame(d)\n",
    "    df['year']=year\n",
    "    df['language']=lang\n",
    "    df['link']='https://open.spotify.com/track/'+df['track_uri']+'?si=b0d970dc39ca4da1&nd=1'\n",
    "    return df"
   ]
  },
  {
   "cell_type": "code",
   "execution_count": 6,
   "metadata": {},
   "outputs": [],
   "source": [
    "playlist_link = \"https://open.spotify.com/playlist/37i9dQZF1DWVClvVUI87z8?si=a6cf58db6035438c\"\n",
    "df_50s=dataframe(playlist_link,1950,'hindi')"
   ]
  },
  {
   "cell_type": "code",
   "execution_count": 7,
   "metadata": {},
   "outputs": [
    {
     "data": {
      "text/plain": [
       "(100, 8)"
      ]
     },
     "execution_count": 7,
     "metadata": {},
     "output_type": "execute_result"
    }
   ],
   "source": [
    "df_50s.shape\n"
   ]
  },
  {
   "cell_type": "code",
   "execution_count": 8,
   "metadata": {},
   "outputs": [
    {
     "data": {
      "text/plain": [
       "(100, 8)"
      ]
     },
     "execution_count": 8,
     "metadata": {},
     "output_type": "execute_result"
    }
   ],
   "source": [
    "playlist_link = \"https://open.spotify.com/playlist/37i9dQZF1DWSV3Tk4GO2fq?si=35389838683144d9\"\n",
    "df_50s_e=dataframe(playlist_link,1950,'english')\n",
    "df_50s_e.shape\n"
   ]
  },
  {
   "cell_type": "code",
   "execution_count": 9,
   "metadata": {},
   "outputs": [
    {
     "data": {
      "text/plain": [
       "(100, 8)"
      ]
     },
     "execution_count": 9,
     "metadata": {},
     "output_type": "execute_result"
    }
   ],
   "source": [
    "playlist_link = \"https://open.spotify.com/playlist/37i9dQZF1DXa1eCiO3E6Rr?si=5044317efbfb4ebf\"\n",
    "df_60s_h=dataframe(playlist_link,1960,'hindi')\n",
    "df_60s_h.shape"
   ]
  },
  {
   "cell_type": "code",
   "execution_count": 10,
   "metadata": {},
   "outputs": [
    {
     "data": {
      "text/plain": [
       "(100, 8)"
      ]
     },
     "execution_count": 10,
     "metadata": {},
     "output_type": "execute_result"
    }
   ],
   "source": [
    "playlist_link = \"https://open.spotify.com/playlist/37i9dQZF1DXaKIA8E7WcJj?si=68c96a99fedc4b42\"\n",
    "df_60s_e=dataframe(playlist_link,1960,'english')\n",
    "df_60s_e.shape"
   ]
  },
  {
   "cell_type": "code",
   "execution_count": 11,
   "metadata": {},
   "outputs": [
    {
     "data": {
      "text/plain": [
       "(100, 8)"
      ]
     },
     "execution_count": 11,
     "metadata": {},
     "output_type": "execute_result"
    }
   ],
   "source": [
    "playlist_link = \"https://open.spotify.com/playlist/37i9dQZF1DX9kVlnA5Si6s?si=834adb312229406c\"\n",
    "df_70s_h=dataframe(playlist_link,1970,'hindi')\n",
    "df_70s_h.shape"
   ]
  },
  {
   "cell_type": "code",
   "execution_count": 12,
   "metadata": {},
   "outputs": [
    {
     "data": {
      "text/plain": [
       "(100, 8)"
      ]
     },
     "execution_count": 12,
     "metadata": {},
     "output_type": "execute_result"
    }
   ],
   "source": [
    "playlist_link = \"https://open.spotify.com/playlist/37i9dQZF1DWTJ7xPn4vNaz?si=e2483b66a7144585\"\n",
    "df_70s_e=dataframe(playlist_link,1970,'english')\n",
    "df_70s_e.shape"
   ]
  },
  {
   "cell_type": "code",
   "execution_count": 13,
   "metadata": {},
   "outputs": [
    {
     "data": {
      "text/plain": [
       "(100, 8)"
      ]
     },
     "execution_count": 13,
     "metadata": {},
     "output_type": "execute_result"
    }
   ],
   "source": [
    "playlist_link = \"https://open.spotify.com/playlist/37i9dQZF1DX5rOEFf3Iycd?si=d2c95dab8fff48a6\"\n",
    "df_80s_h=dataframe(playlist_link,1980,'hindi')\n",
    "df_80s_h.shape"
   ]
  },
  {
   "cell_type": "code",
   "execution_count": 14,
   "metadata": {},
   "outputs": [
    {
     "data": {
      "text/plain": [
       "(100, 8)"
      ]
     },
     "execution_count": 14,
     "metadata": {},
     "output_type": "execute_result"
    }
   ],
   "source": [
    "playlist_link = \"https://open.spotify.com/playlist/37i9dQZF1DX4UtSsGT1Sbe?si=93205b1e68084c33\"\n",
    "df_80s_e=dataframe(playlist_link,1980,'english')\n",
    "df_80s_e.shape"
   ]
  },
  {
   "cell_type": "code",
   "execution_count": 15,
   "metadata": {},
   "outputs": [
    {
     "data": {
      "text/plain": [
       "(100, 8)"
      ]
     },
     "execution_count": 15,
     "metadata": {},
     "output_type": "execute_result"
    }
   ],
   "source": [
    "playlist_link = \"https://open.spotify.com/playlist/37i9dQZF1DXa2huSXaKVkW?si=fa56f961e6f247cf\"\n",
    "df_90s_h=dataframe(playlist_link,1990,'hindi')\n",
    "df_90s_h.shape\n",
    "\n",
    "playlist_link1 = \"https://open.spotify.com/playlist/37i9dQZF1DXbTxeAdrVG2l?si=506d39e4ed894b90\"\n",
    "df_90s_e=dataframe(playlist_link1,1990,'english')\n",
    "df_90s_e.shape"
   ]
  },
  {
   "cell_type": "code",
   "execution_count": 16,
   "metadata": {},
   "outputs": [
    {
     "data": {
      "text/plain": [
       "(100, 8)"
      ]
     },
     "execution_count": 16,
     "metadata": {},
     "output_type": "execute_result"
    }
   ],
   "source": [
    "playlist_link = \"https://open.spotify.com/playlist/37i9dQZF1DWZNJXX2UeBij?si=9b3b43ed6f854841\"\n",
    "df_00s_h=dataframe(playlist_link,2000,'hindi')\n",
    "df_00s_h.shape\n",
    "\n",
    "playlist_link1 = \"https://open.spotify.com/playlist/37i9dQZF1DX4o1oenSJRJd?si=a7c5de8a509b4f6c\"\n",
    "df_00s_e=dataframe(playlist_link1,2000,'english')\n",
    "df_00s_e.shape"
   ]
  },
  {
   "cell_type": "code",
   "execution_count": 17,
   "metadata": {},
   "outputs": [
    {
     "data": {
      "text/plain": [
       "(100, 8)"
      ]
     },
     "execution_count": 17,
     "metadata": {},
     "output_type": "execute_result"
    }
   ],
   "source": [
    "playlist_link = \"https://open.spotify.com/playlist/2VzBEj58MP8ixnnrGTZVzB?si=95ccbc3df9984f96\"\n",
    "df_10s_h=dataframe(playlist_link,2010,'hindi')\n",
    "df_10s_h.shape\n",
    "\n",
    "playlist_link1 = \"https://open.spotify.com/playlist/37i9dQZF1DX5Ejj0EkURtP?si=78839918c52046a5\"\n",
    "df_10s_e=dataframe(playlist_link1,2010,'english')\n",
    "df_10s_e.shape"
   ]
  },
  {
   "cell_type": "code",
   "execution_count": 18,
   "metadata": {},
   "outputs": [],
   "source": [
    "df_final = pd.concat([df_50s,df_50s_e, df_60s_h,df_60s_e,df_70s_h,df_70s_e,df_80s_h,df_80s_e,df_90s_h,df_90s_e,df_00s_h,df_00s_e,df_10s_h,df_10s_e], ignore_index=True)\n"
   ]
  },
  {
   "cell_type": "code",
   "execution_count": 19,
   "metadata": {},
   "outputs": [
    {
     "data": {
      "text/plain": [
       "(1400, 8)"
      ]
     },
     "execution_count": 19,
     "metadata": {},
     "output_type": "execute_result"
    }
   ],
   "source": [
    "df_final.shape\n"
   ]
  },
  {
   "cell_type": "code",
   "execution_count": 20,
   "metadata": {},
   "outputs": [],
   "source": [
    "df_final.to_csv('read_file.csv', index=False)\n"
   ]
  },
  {
   "cell_type": "code",
   "execution_count": null,
   "metadata": {},
   "outputs": [],
   "source": []
  }
 ],
 "metadata": {
  "kernelspec": {
   "display_name": "Python 3",
   "language": "python",
   "name": "python3"
  },
  "language_info": {
   "codemirror_mode": {
    "name": "ipython",
    "version": 3
   },
   "file_extension": ".py",
   "mimetype": "text/x-python",
   "name": "python",
   "nbconvert_exporter": "python",
   "pygments_lexer": "ipython3",
   "version": "3.12.4"
  }
 },
 "nbformat": 4,
 "nbformat_minor": 2
}
