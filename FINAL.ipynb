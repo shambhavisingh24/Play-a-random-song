{
 "cells": [
  {
   "cell_type": "code",
   "execution_count": 5,
   "metadata": {},
   "outputs": [],
   "source": [
    "import spotipy\n",
    "from spotipy.oauth2 import SpotifyClientCredentials\n",
    "import pandas as pd"
   ]
  },
  {
   "cell_type": "code",
   "execution_count": 6,
   "metadata": {},
   "outputs": [],
   "source": [
    "cid='41e26e60935a465095f88890a830020d'\n",
    "secret='81e64ad9c6954704a919df9480f96f3c'"
   ]
  },
  {
   "cell_type": "code",
   "execution_count": 7,
   "metadata": {},
   "outputs": [],
   "source": [
    "#Authentication - without user\n",
    "client_credentials_manager = SpotifyClientCredentials(client_id=cid, client_secret=secret)\n",
    "sp = spotipy.Spotify(client_credentials_manager = client_credentials_manager)"
   ]
  },
  {
   "cell_type": "code",
   "execution_count": 8,
   "metadata": {},
   "outputs": [],
   "source": [
    "def file(playlist_link):\n",
    "    playlist_URI = playlist_link.split(\"/\")[-1].split(\"?\")[0]\n",
    "    track_uris = [x[\"track\"][\"uri\"] for x in sp.playlist_tracks(playlist_URI)[\"items\"]]\n",
    "    d = []\n",
    "    for track in sp.playlist_tracks(playlist_URI)[\"items\"]:\n",
    "        d.append(\n",
    "        {\n",
    "            'track_uri' : track[\"track\"][\"uri\"],\n",
    "            'track_name' : track[\"track\"][\"name\"],\n",
    "            'album' : track[\"track\"][\"album\"][\"name\"],\n",
    "            'artist_name' : track[\"track\"][\"artists\"][0][\"name\"],\n",
    "            'track_pop' : track[\"track\"][\"popularity\"]\n",
    "        })\n",
    "    return d"
   ]
  },
  {
   "cell_type": "code",
   "execution_count": 9,
   "metadata": {},
   "outputs": [],
   "source": [
    "def dataframe(playlist_link,year,lang):\n",
    "    d=file(playlist_link)\n",
    "    df = pd.DataFrame(d)\n",
    "    df['year']=year\n",
    "    df['language']=lang\n",
    "    df['link']='https://open.spotify.com/track/'+df['track_uri']+'?si=b0d970dc39ca4da1&nd=1'\n",
    "    return df"
   ]
  },
  {
   "cell_type": "code",
   "execution_count": 10,
   "metadata": {},
   "outputs": [],
   "source": [
    "playlist_link = \"https://open.spotify.com/playlist/37i9dQZF1DWVClvVUI87z8?si=a6cf58db6035438c\"\n",
    "df_50s=dataframe(playlist_link,50,'hindi')"
   ]
  },
  {
   "cell_type": "code",
   "execution_count": 11,
   "metadata": {},
   "outputs": [
    {
     "data": {
      "text/plain": [
       "(100, 8)"
      ]
     },
     "execution_count": 11,
     "metadata": {},
     "output_type": "execute_result"
    }
   ],
   "source": [
    "df_50s.shape"
   ]
  },
  {
   "cell_type": "code",
   "execution_count": 12,
   "metadata": {},
   "outputs": [
    {
     "data": {
      "text/plain": [
       "(100, 8)"
      ]
     },
     "execution_count": 12,
     "metadata": {},
     "output_type": "execute_result"
    }
   ],
   "source": [
    "playlist_link = \"https://open.spotify.com/playlist/37i9dQZF1DWSV3Tk4GO2fq?si=35389838683144d9\"\n",
    "df_50s_e=dataframe(playlist_link,50,'english')\n",
    "df_50s_e.shape"
   ]
  },
  {
   "cell_type": "code",
   "execution_count": 13,
   "metadata": {},
   "outputs": [
    {
     "data": {
      "text/plain": [
       "(100, 8)"
      ]
     },
     "execution_count": 13,
     "metadata": {},
     "output_type": "execute_result"
    }
   ],
   "source": [
    "playlist_link = \"https://open.spotify.com/playlist/37i9dQZF1DXa1eCiO3E6Rr?si=5044317efbfb4ebf\"\n",
    "df_60s_h=dataframe(playlist_link,60,'hindi')\n",
    "df_60s_h.shape"
   ]
  },
  {
   "cell_type": "code",
   "execution_count": 14,
   "metadata": {},
   "outputs": [
    {
     "data": {
      "text/plain": [
       "(100, 8)"
      ]
     },
     "execution_count": 14,
     "metadata": {},
     "output_type": "execute_result"
    }
   ],
   "source": [
    "playlist_link = \"https://open.spotify.com/playlist/37i9dQZF1DXaKIA8E7WcJj?si=68c96a99fedc4b42\"\n",
    "df_60s_e=dataframe(playlist_link,60,'english')\n",
    "df_60s_e.shape"
   ]
  },
  {
   "cell_type": "code",
   "execution_count": 15,
   "metadata": {},
   "outputs": [
    {
     "data": {
      "text/plain": [
       "(100, 8)"
      ]
     },
     "execution_count": 15,
     "metadata": {},
     "output_type": "execute_result"
    }
   ],
   "source": [
    "playlist_link = \"https://open.spotify.com/playlist/37i9dQZF1DX9kVlnA5Si6s?si=834adb312229406c\"\n",
    "df_70s_h=dataframe(playlist_link,70,'hindi')\n",
    "df_70s_h.shape"
   ]
  },
  {
   "cell_type": "code",
   "execution_count": 16,
   "metadata": {},
   "outputs": [
    {
     "data": {
      "text/plain": [
       "(100, 8)"
      ]
     },
     "execution_count": 16,
     "metadata": {},
     "output_type": "execute_result"
    }
   ],
   "source": [
    "playlist_link = \"https://open.spotify.com/playlist/37i9dQZF1DWTJ7xPn4vNaz?si=e2483b66a7144585\"\n",
    "df_70s_e=dataframe(playlist_link,70,'english')\n",
    "df_70s_e.shape"
   ]
  },
  {
   "cell_type": "code",
   "execution_count": 17,
   "metadata": {},
   "outputs": [
    {
     "data": {
      "text/plain": [
       "(100, 8)"
      ]
     },
     "execution_count": 17,
     "metadata": {},
     "output_type": "execute_result"
    }
   ],
   "source": [
    "playlist_link = \"https://open.spotify.com/playlist/37i9dQZF1DX5rOEFf3Iycd?si=d2c95dab8fff48a6\"\n",
    "df_80s_h=dataframe(playlist_link,80,'hindi')\n",
    "df_80s_h.shape"
   ]
  },
  {
   "cell_type": "code",
   "execution_count": 18,
   "metadata": {},
   "outputs": [
    {
     "data": {
      "text/plain": [
       "(100, 8)"
      ]
     },
     "execution_count": 18,
     "metadata": {},
     "output_type": "execute_result"
    }
   ],
   "source": [
    "playlist_link = \"https://open.spotify.com/playlist/37i9dQZF1DX4UtSsGT1Sbe?si=93205b1e68084c33\"\n",
    "df_80s_e=dataframe(playlist_link,80,'english')\n",
    "df_80s_e.shape"
   ]
  },
  {
   "cell_type": "code",
   "execution_count": 19,
   "metadata": {},
   "outputs": [
    {
     "data": {
      "text/plain": [
       "(100, 8)"
      ]
     },
     "execution_count": 19,
     "metadata": {},
     "output_type": "execute_result"
    }
   ],
   "source": [
    "playlist_link = \"https://open.spotify.com/playlist/37i9dQZF1DXa2huSXaKVkW?si=fa56f961e6f247cf\"\n",
    "df_90s_h=dataframe(playlist_link,90,'hindi')\n",
    "df_90s_h.shape\n",
    "\n",
    "playlist_link1 = \"https://open.spotify.com/playlist/37i9dQZF1DXbTxeAdrVG2l?si=506d39e4ed894b90\"\n",
    "df_90s_e=dataframe(playlist_link1,90,'english')\n",
    "df_90s_e.shape"
   ]
  },
  {
   "cell_type": "code",
   "execution_count": 20,
   "metadata": {},
   "outputs": [
    {
     "data": {
      "text/plain": [
       "(100, 8)"
      ]
     },
     "execution_count": 20,
     "metadata": {},
     "output_type": "execute_result"
    }
   ],
   "source": [
    "playlist_link = \"https://open.spotify.com/playlist/37i9dQZF1DWZNJXX2UeBij?si=9b3b43ed6f854841\"\n",
    "df_00s_h=dataframe(playlist_link,2000,'hindi')\n",
    "df_00s_h.shape\n",
    "\n",
    "playlist_link1 = \"https://open.spotify.com/playlist/37i9dQZF1DX4o1oenSJRJd?si=a7c5de8a509b4f6c\"\n",
    "df_00s_e=dataframe(playlist_link1,2000,'english')\n",
    "df_00s_e.shape"
   ]
  },
  {
   "cell_type": "code",
   "execution_count": 21,
   "metadata": {},
   "outputs": [
    {
     "data": {
      "text/plain": [
       "(100, 8)"
      ]
     },
     "execution_count": 21,
     "metadata": {},
     "output_type": "execute_result"
    }
   ],
   "source": [
    "playlist_link = \"https://open.spotify.com/playlist/2VzBEj58MP8ixnnrGTZVzB?si=95ccbc3df9984f96\"\n",
    "df_10s_h=dataframe(playlist_link,2010,'hindi')\n",
    "df_10s_h.shape\n",
    "\n",
    "playlist_link1 = \"https://open.spotify.com/playlist/37i9dQZF1DX5Ejj0EkURtP?si=78839918c52046a5\"\n",
    "df_10s_e=dataframe(playlist_link1,2010,'english')\n",
    "df_10s_e.shape"
   ]
  },
  {
   "cell_type": "code",
   "execution_count": 22,
   "metadata": {},
   "outputs": [],
   "source": [
    "df_final = pd.DataFrame().append([df_50s,df_50s_e, df_60s_h,df_60s_e,df_70s_h,df_70s_e,df_80s_h,df_80s_e,df_90s_h,df_90s_e,df_00s_h,df_00s_e,df_10s_h,df_10s_e])"
   ]
  },
  {
   "cell_type": "code",
   "execution_count": 23,
   "metadata": {},
   "outputs": [
    {
     "data": {
      "text/plain": [
       "(1400, 8)"
      ]
     },
     "execution_count": 23,
     "metadata": {},
     "output_type": "execute_result"
    }
   ],
   "source": [
    "df_final.shape"
   ]
  },
  {
   "cell_type": "code",
   "execution_count": 24,
   "metadata": {},
   "outputs": [],
   "source": [
    "#df_final.to_csv('read_file.csv', index=False)"
   ]
  },
  {
   "cell_type": "code",
   "execution_count": 25,
   "metadata": {},
   "outputs": [],
   "source": [
    "a= df_final.sample()"
   ]
  },
  {
   "cell_type": "code",
   "execution_count": 26,
   "metadata": {},
   "outputs": [
    {
     "data": {
      "text/html": [
       "<div>\n",
       "<style scoped>\n",
       "    .dataframe tbody tr th:only-of-type {\n",
       "        vertical-align: middle;\n",
       "    }\n",
       "\n",
       "    .dataframe tbody tr th {\n",
       "        vertical-align: top;\n",
       "    }\n",
       "\n",
       "    .dataframe thead th {\n",
       "        text-align: right;\n",
       "    }\n",
       "</style>\n",
       "<table border=\"1\" class=\"dataframe\">\n",
       "  <thead>\n",
       "    <tr style=\"text-align: right;\">\n",
       "      <th></th>\n",
       "      <th>track_uri</th>\n",
       "      <th>track_name</th>\n",
       "      <th>album</th>\n",
       "      <th>artist_name</th>\n",
       "      <th>track_pop</th>\n",
       "      <th>year</th>\n",
       "      <th>language</th>\n",
       "      <th>link</th>\n",
       "    </tr>\n",
       "  </thead>\n",
       "  <tbody>\n",
       "    <tr>\n",
       "      <th>97</th>\n",
       "      <td>spotify:track:58PSYdY0GFg0LFb2PxYk4T</td>\n",
       "      <td>Mannish Boy</td>\n",
       "      <td>King Of The Electric Blues</td>\n",
       "      <td>Muddy Waters</td>\n",
       "      <td>65</td>\n",
       "      <td>50</td>\n",
       "      <td>english</td>\n",
       "      <td>https://open.spotify.com/track/spotify:track:5...</td>\n",
       "    </tr>\n",
       "  </tbody>\n",
       "</table>\n",
       "</div>"
      ],
      "text/plain": [
       "                               track_uri   track_name  \\\n",
       "97  spotify:track:58PSYdY0GFg0LFb2PxYk4T  Mannish Boy   \n",
       "\n",
       "                         album   artist_name  track_pop  year language  \\\n",
       "97  King Of The Electric Blues  Muddy Waters         65    50  english   \n",
       "\n",
       "                                                 link  \n",
       "97  https://open.spotify.com/track/spotify:track:5...  "
      ]
     },
     "execution_count": 26,
     "metadata": {},
     "output_type": "execute_result"
    }
   ],
   "source": [
    "a"
   ]
  },
  {
   "cell_type": "code",
   "execution_count": 27,
   "metadata": {},
   "outputs": [],
   "source": [
    "a['new_link'] = a.track_uri.str.split('track:').str[-1]\n"
   ]
  },
  {
   "cell_type": "code",
   "execution_count": 28,
   "metadata": {},
   "outputs": [],
   "source": [
    "a['fin']='https://open.spotify.com/track/'+a['new_link']+'?si=b0d970dc39ca4da1&nd=1'"
   ]
  },
  {
   "cell_type": "code",
   "execution_count": 29,
   "metadata": {},
   "outputs": [
    {
     "data": {
      "text/plain": [
       "' https://open.spotify.com/track/58PSYdY0GFg0LFb...'"
      ]
     },
     "execution_count": 29,
     "metadata": {},
     "output_type": "execute_result"
    }
   ],
   "source": [
    "url =a['fin'].to_string(index= False)\n",
    "url"
   ]
  },
  {
   "cell_type": "code",
   "execution_count": 30,
   "metadata": {},
   "outputs": [],
   "source": [
    "#a.to_csv('final.csv', index=False)"
   ]
  },
  {
   "cell_type": "code",
   "execution_count": null,
   "metadata": {},
   "outputs": [],
   "source": []
  },
  {
   "cell_type": "code",
   "execution_count": 31,
   "metadata": {},
   "outputs": [],
   "source": [
    "import webbrowser"
   ]
  },
  {
   "cell_type": "code",
   "execution_count": 32,
   "metadata": {},
   "outputs": [],
   "source": [
    "#print \"Opening: %s\" % (a['link'])\n",
    "#webbrowser.open_new_tab(a['link'])"
   ]
  },
  {
   "cell_type": "code",
   "execution_count": 33,
   "metadata": {},
   "outputs": [
    {
     "data": {
      "text/html": [
       "<div>\n",
       "<style scoped>\n",
       "    .dataframe tbody tr th:only-of-type {\n",
       "        vertical-align: middle;\n",
       "    }\n",
       "\n",
       "    .dataframe tbody tr th {\n",
       "        vertical-align: top;\n",
       "    }\n",
       "\n",
       "    .dataframe thead th {\n",
       "        text-align: right;\n",
       "    }\n",
       "</style>\n",
       "<table border=\"1\" class=\"dataframe\">\n",
       "  <thead>\n",
       "    <tr style=\"text-align: right;\">\n",
       "      <th></th>\n",
       "      <th>track_uri</th>\n",
       "      <th>track_name</th>\n",
       "      <th>album</th>\n",
       "      <th>artist_name</th>\n",
       "      <th>track_pop</th>\n",
       "      <th>year</th>\n",
       "      <th>language</th>\n",
       "      <th>link</th>\n",
       "      <th>new_link</th>\n",
       "      <th>fin</th>\n",
       "    </tr>\n",
       "  </thead>\n",
       "  <tbody>\n",
       "    <tr>\n",
       "      <th>97</th>\n",
       "      <td>spotify:track:58PSYdY0GFg0LFb2PxYk4T</td>\n",
       "      <td>Mannish Boy</td>\n",
       "      <td>King Of The Electric Blues</td>\n",
       "      <td>Muddy Waters</td>\n",
       "      <td>65</td>\n",
       "      <td>50</td>\n",
       "      <td>english</td>\n",
       "      <td>https://open.spotify.com/track/spotify:track:5...</td>\n",
       "      <td>58PSYdY0GFg0LFb2PxYk4T</td>\n",
       "      <td>https://open.spotify.com/track/58PSYdY0GFg0LFb...</td>\n",
       "    </tr>\n",
       "  </tbody>\n",
       "</table>\n",
       "</div>"
      ],
      "text/plain": [
       "                               track_uri   track_name  \\\n",
       "97  spotify:track:58PSYdY0GFg0LFb2PxYk4T  Mannish Boy   \n",
       "\n",
       "                         album   artist_name  track_pop  year language  \\\n",
       "97  King Of The Electric Blues  Muddy Waters         65    50  english   \n",
       "\n",
       "                                                 link                new_link  \\\n",
       "97  https://open.spotify.com/track/spotify:track:5...  58PSYdY0GFg0LFb2PxYk4T   \n",
       "\n",
       "                                                  fin  \n",
       "97  https://open.spotify.com/track/58PSYdY0GFg0LFb...  "
      ]
     },
     "execution_count": 33,
     "metadata": {},
     "output_type": "execute_result"
    }
   ],
   "source": [
    "a"
   ]
  },
  {
   "cell_type": "code",
   "execution_count": 34,
   "metadata": {},
   "outputs": [],
   "source": [
    "def open_page(a):\n",
    "    baseSite = \"https://open.spotify.com/track/\"\n",
    "    reddit_name= a['new_link'].to_string(index = False).replace(\" \", \"\")\n",
    "    finalsite = \"?si=b0d970dc39ca4da1&nd=1\"\n",
    "    redditSite = baseSite + reddit_name + finalsite\n",
    "    print (\"Opening: %s\" % (redditSite))\n",
    "    webbrowser.open_new_tab(redditSite)\n",
    "    \n",
    "def main():\n",
    "    open_page(a)\n",
    "    \n",
    " \n",
    "# if __name__ == '__main__':\n",
    "#    main()"
   ]
  },
  {
   "cell_type": "code",
   "execution_count": 30,
   "metadata": {},
   "outputs": [],
   "source": [
    "#import webbrowser\n",
    "#url = 'https://www.python.org/'\n",
    "#webbrowser.open_new_tab(url)\n",
    "#webbrowser.open_new(\"https://open.spotify.com/track/54b8qPFqYqIndfdxiLApea?si=b0d970dc39ca4da1&nd=\")"
   ]
  },
  {
   "cell_type": "code",
   "execution_count": 31,
   "metadata": {},
   "outputs": [],
   "source": [
    "#type(url)"
   ]
  },
  {
   "cell_type": "code",
   "execution_count": 39,
   "metadata": {},
   "outputs": [
    {
     "data": {
      "application/vnd.jupyter.widget-view+json": {
       "model_id": "e98e2a92bff044778fecfc4f2ac38bc4",
       "version_major": 2,
       "version_minor": 0
      },
      "text/plain": [
       "Button(description='My Button', style=ButtonStyle())"
      ]
     },
     "metadata": {},
     "output_type": "display_data"
    },
    {
     "ename": "TypeError",
     "evalue": "'Button' object is not subscriptable",
     "output_type": "error",
     "traceback": [
      "\u001b[0;31m---------------------------------------------------------------------------\u001b[0m",
      "\u001b[0;31mTypeError\u001b[0m                                 Traceback (most recent call last)",
      "\u001b[0;32m<ipython-input-34-002bb0ec2b73>\u001b[0m in \u001b[0;36mopen_page\u001b[0;34m(a)\u001b[0m\n\u001b[1;32m      1\u001b[0m \u001b[0;32mdef\u001b[0m \u001b[0mopen_page\u001b[0m\u001b[0;34m(\u001b[0m\u001b[0ma\u001b[0m\u001b[0;34m)\u001b[0m\u001b[0;34m:\u001b[0m\u001b[0;34m\u001b[0m\u001b[0;34m\u001b[0m\u001b[0m\n\u001b[1;32m      2\u001b[0m     \u001b[0mbaseSite\u001b[0m \u001b[0;34m=\u001b[0m \u001b[0;34m\"https://open.spotify.com/track/\"\u001b[0m\u001b[0;34m\u001b[0m\u001b[0;34m\u001b[0m\u001b[0m\n\u001b[0;32m----> 3\u001b[0;31m     \u001b[0mreddit_name\u001b[0m\u001b[0;34m=\u001b[0m \u001b[0ma\u001b[0m\u001b[0;34m[\u001b[0m\u001b[0;34m'new_link'\u001b[0m\u001b[0;34m]\u001b[0m\u001b[0;34m.\u001b[0m\u001b[0mto_string\u001b[0m\u001b[0;34m(\u001b[0m\u001b[0mindex\u001b[0m \u001b[0;34m=\u001b[0m \u001b[0;32mFalse\u001b[0m\u001b[0;34m)\u001b[0m\u001b[0;34m.\u001b[0m\u001b[0mreplace\u001b[0m\u001b[0;34m(\u001b[0m\u001b[0;34m\" \"\u001b[0m\u001b[0;34m,\u001b[0m \u001b[0;34m\"\"\u001b[0m\u001b[0;34m)\u001b[0m\u001b[0;34m\u001b[0m\u001b[0;34m\u001b[0m\u001b[0m\n\u001b[0m\u001b[1;32m      4\u001b[0m     \u001b[0mfinalsite\u001b[0m \u001b[0;34m=\u001b[0m \u001b[0;34m\"?si=b0d970dc39ca4da1&nd=1\"\u001b[0m\u001b[0;34m\u001b[0m\u001b[0;34m\u001b[0m\u001b[0m\n\u001b[1;32m      5\u001b[0m     \u001b[0mredditSite\u001b[0m \u001b[0;34m=\u001b[0m \u001b[0mbaseSite\u001b[0m \u001b[0;34m+\u001b[0m \u001b[0mreddit_name\u001b[0m \u001b[0;34m+\u001b[0m \u001b[0mfinalsite\u001b[0m\u001b[0;34m\u001b[0m\u001b[0;34m\u001b[0m\u001b[0m\n",
      "\u001b[0;31mTypeError\u001b[0m: 'Button' object is not subscriptable"
     ]
    },
    {
     "ename": "TypeError",
     "evalue": "'Button' object is not subscriptable",
     "output_type": "error",
     "traceback": [
      "\u001b[0;31m---------------------------------------------------------------------------\u001b[0m",
      "\u001b[0;31mTypeError\u001b[0m                                 Traceback (most recent call last)",
      "\u001b[0;32m<ipython-input-34-002bb0ec2b73>\u001b[0m in \u001b[0;36mopen_page\u001b[0;34m(a)\u001b[0m\n\u001b[1;32m      1\u001b[0m \u001b[0;32mdef\u001b[0m \u001b[0mopen_page\u001b[0m\u001b[0;34m(\u001b[0m\u001b[0ma\u001b[0m\u001b[0;34m)\u001b[0m\u001b[0;34m:\u001b[0m\u001b[0;34m\u001b[0m\u001b[0;34m\u001b[0m\u001b[0m\n\u001b[1;32m      2\u001b[0m     \u001b[0mbaseSite\u001b[0m \u001b[0;34m=\u001b[0m \u001b[0;34m\"https://open.spotify.com/track/\"\u001b[0m\u001b[0;34m\u001b[0m\u001b[0;34m\u001b[0m\u001b[0m\n\u001b[0;32m----> 3\u001b[0;31m     \u001b[0mreddit_name\u001b[0m\u001b[0;34m=\u001b[0m \u001b[0ma\u001b[0m\u001b[0;34m[\u001b[0m\u001b[0;34m'new_link'\u001b[0m\u001b[0;34m]\u001b[0m\u001b[0;34m.\u001b[0m\u001b[0mto_string\u001b[0m\u001b[0;34m(\u001b[0m\u001b[0mindex\u001b[0m \u001b[0;34m=\u001b[0m \u001b[0;32mFalse\u001b[0m\u001b[0;34m)\u001b[0m\u001b[0;34m.\u001b[0m\u001b[0mreplace\u001b[0m\u001b[0;34m(\u001b[0m\u001b[0;34m\" \"\u001b[0m\u001b[0;34m,\u001b[0m \u001b[0;34m\"\"\u001b[0m\u001b[0;34m)\u001b[0m\u001b[0;34m\u001b[0m\u001b[0;34m\u001b[0m\u001b[0m\n\u001b[0m\u001b[1;32m      4\u001b[0m     \u001b[0mfinalsite\u001b[0m \u001b[0;34m=\u001b[0m \u001b[0;34m\"?si=b0d970dc39ca4da1&nd=1\"\u001b[0m\u001b[0;34m\u001b[0m\u001b[0;34m\u001b[0m\u001b[0m\n\u001b[1;32m      5\u001b[0m     \u001b[0mredditSite\u001b[0m \u001b[0;34m=\u001b[0m \u001b[0mbaseSite\u001b[0m \u001b[0;34m+\u001b[0m \u001b[0mreddit_name\u001b[0m \u001b[0;34m+\u001b[0m \u001b[0mfinalsite\u001b[0m\u001b[0;34m\u001b[0m\u001b[0;34m\u001b[0m\u001b[0m\n",
      "\u001b[0;31mTypeError\u001b[0m: 'Button' object is not subscriptable"
     ]
    }
   ],
   "source": [
    "# import module\n",
    "import ipywidgets as widgets\n",
    "  \n",
    "# creating button\n",
    "button = widgets.Button(description = 'My Button')\n",
    "x=open_page(a)\n",
    "button.on_click(open_page)\n",
    "button"
   ]
  },
  {
   "cell_type": "code",
   "execution_count": null,
   "metadata": {},
   "outputs": [],
   "source": [
    "button.on_click(main)"
   ]
  },
  {
   "cell_type": "code",
   "execution_count": null,
   "metadata": {},
   "outputs": [],
   "source": []
  }
 ],
 "metadata": {
  "kernelspec": {
   "display_name": "Python 3",
   "language": "python",
   "name": "python3"
  },
  "language_info": {
   "codemirror_mode": {
    "name": "ipython",
    "version": 3
   },
   "file_extension": ".py",
   "mimetype": "text/x-python",
   "name": "python",
   "nbconvert_exporter": "python",
   "pygments_lexer": "ipython3",
   "version": "3.8.2"
  }
 },
 "nbformat": 4,
 "nbformat_minor": 4
}
